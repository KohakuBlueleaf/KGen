{
 "cells": [
  {
   "cell_type": "code",
   "execution_count": 42,
   "metadata": {},
   "outputs": [],
   "source": [
    "import pandas as pd\n",
    "import matplotlib.pyplot as plt\n",
    "import numpy as np\n",
    "import seaborn as sns"
   ]
  },
  {
   "cell_type": "code",
   "execution_count": 43,
   "metadata": {},
   "outputs": [
    {
     "name": "stdout",
     "output_type": "stream",
     "text": [
      "{'conventional.txt': array([[1.        , 0.73924965, 0.8975722 , ..., 0.77224404, 0.79993534,\n",
      "        0.7607754 ],\n",
      "       [0.73924965, 0.9999998 , 0.75349826, ..., 0.69949377, 0.8173207 ,\n",
      "        0.76086456],\n",
      "       [0.8975722 , 0.75349826, 0.9999997 , ..., 0.83076334, 0.8372639 ,\n",
      "        0.7789935 ],\n",
      "       ...,\n",
      "       [0.772244  , 0.6994938 , 0.83076316, ..., 1.        , 0.77158237,\n",
      "        0.7427912 ],\n",
      "       [0.79993546, 0.81732106, 0.8372638 , ..., 0.7715822 , 1.0000001 ,\n",
      "        0.754529  ],\n",
      "       [0.7607753 , 0.76086456, 0.7789934 , ..., 0.7427911 , 0.754529  ,\n",
      "        0.9999999 ]], dtype=float32), 'reference.txt': array([[1.0000001 , 0.8821364 , 0.8963772 , ..., 0.8795015 , 0.8516338 ,\n",
      "        0.8123975 ],\n",
      "       [0.8821364 , 1.0000002 , 0.8701495 , ..., 0.8949298 , 0.86709166,\n",
      "        0.8272734 ],\n",
      "       [0.8963772 , 0.8701495 , 1.0000001 , ..., 0.89596444, 0.89398855,\n",
      "        0.7771128 ],\n",
      "       ...,\n",
      "       [0.8795014 , 0.8949297 , 0.89596456, ..., 1.0000001 , 0.9268026 ,\n",
      "        0.8098594 ],\n",
      "       [0.8516337 , 0.8670913 , 0.8939885 , ..., 0.92680264, 0.99999976,\n",
      "        0.78522927],\n",
      "       [0.8123975 , 0.8272732 , 0.77711296, ..., 0.8098593 , 0.78522927,\n",
      "        1.        ]], dtype=float32), 'test-low-div.txt': array([[1.        , 0.86952883, 0.89625067, ..., 0.7915527 , 0.78193825,\n",
      "        0.76336426],\n",
      "       [0.86952883, 0.99999994, 0.97987133, ..., 0.832503  , 0.8257601 ,\n",
      "        0.840296  ],\n",
      "       [0.89625067, 0.97987133, 1.0000001 , ..., 0.81210864, 0.8052202 ,\n",
      "        0.81672335],\n",
      "       ...,\n",
      "       [0.79155254, 0.8325029 , 0.8121088 , ..., 0.9999999 , 0.9917389 ,\n",
      "        0.97798485],\n",
      "       [0.78193825, 0.8257602 , 0.80522   , ..., 0.9917389 , 1.0000001 ,\n",
      "        0.97475046],\n",
      "       [0.76336426, 0.840296  , 0.81672335, ..., 0.9779847 , 0.9747504 ,\n",
      "        1.        ]], dtype=float32), 'test.txt': array([[0.9999999 , 0.9605572 , 0.9559144 , ..., 0.737721  , 0.79823196,\n",
      "        0.778169  ],\n",
      "       [0.9605572 , 0.99999994, 0.9231588 , ..., 0.7055202 , 0.75946456,\n",
      "        0.7408234 ],\n",
      "       [0.9559144 , 0.9231588 , 1.0000001 , ..., 0.73859924, 0.8095735 ,\n",
      "        0.801023  ],\n",
      "       ...,\n",
      "       [0.73772067, 0.70552015, 0.7385992 , ..., 1.        , 0.90730155,\n",
      "        0.9383799 ],\n",
      "       [0.79823226, 0.75946456, 0.8095737 , ..., 0.9073016 , 1.0000001 ,\n",
      "        0.9304739 ],\n",
      "       [0.778169  , 0.74082327, 0.80102307, ..., 0.9383799 , 0.9304739 ,\n",
      "        1.0000002 ]], dtype=float32)}\n"
     ]
    }
   ],
   "source": [
    "tgts_sim = np.load(\"../../output/tgts-sim.npy\", allow_pickle=True).tolist()\n",
    "model_order = [\n",
    "    (\"reference.txt\", \"Conventional\"),\n",
    "    (\"test-low-div.txt\", \"rw-MCTS (low div)\"),\n",
    "    (\"test.txt\", \"rw-MCTS\"),\n",
    "]\n",
    "print(tgts_sim)"
   ]
  },
  {
   "cell_type": "code",
   "execution_count": 44,
   "metadata": {},
   "outputs": [],
   "source": [
    "# Plot each matrix\n",
    "for key, legend_name in model_order:\n",
    "    plt.figure(figsize=(7, 6))\n",
    "    choosed = np.random.choice(range(1024), 128, False)\n",
    "    sns.heatmap(\n",
    "        tgts_sim[key][choosed][:, choosed],\n",
    "        cmap=\"YlOrRd\",\n",
    "        vmin=0.6,\n",
    "        xticklabels=False,\n",
    "        yticklabels=False,\n",
    "    )\n",
    "    plt.title(legend_name)\n",
    "    plt.tight_layout()\n",
    "    plt.savefig(\n",
    "        f\"../../output/tgts-sim-mat/sim_matrix_{key}_best.png\",\n",
    "        dpi=300,\n",
    "        bbox_inches=\"tight\",\n",
    "    )\n",
    "    plt.close()"
   ]
  }
 ],
 "metadata": {
  "kernelspec": {
   "display_name": "Python 3",
   "language": "python",
   "name": "python3"
  },
  "language_info": {
   "codemirror_mode": {
    "name": "ipython",
    "version": 3
   },
   "file_extension": ".py",
   "mimetype": "text/x-python",
   "name": "python",
   "nbconvert_exporter": "python",
   "pygments_lexer": "ipython3",
   "version": "3.11.7"
  }
 },
 "nbformat": 4,
 "nbformat_minor": 2
}
