{
 "cells": [
  {
   "cell_type": "code",
   "execution_count": 7,
   "metadata": {},
   "outputs": [],
   "source": [
    "import pandas as pd\n",
    "import matplotlib.pyplot as plt\n",
    "import numpy as np\n",
    "import seaborn as sns"
   ]
  },
  {
   "cell_type": "code",
   "execution_count": 8,
   "metadata": {},
   "outputs": [
    {
     "name": "stdout",
     "output_type": "stream",
     "text": [
      "dict_keys(['beam_search', 'cg-mcts_exp-0', 'cg-mcts_exp-1', 'cg-mcts_exp-2', 'cg-mcts_exp-3', 'conventional', 'div_beam_search', 'reference', 'rw-mcts_exp-0', 'rw-mcts_exp-1', 'rw-mcts_exp-2', 'rw-mcts_exp-3', 'stochastic_beam_search'])\n"
     ]
    }
   ],
   "source": [
    "tgts_sim = np.load(\"../../../output/img-tgts-sim.npy\", allow_pickle=True).tolist()\n",
    "model_order = [\n",
    "    (\"conventional\", \"Nucleus Sampling (Temp 1.0, min-P 0.1)\"),\n",
    "    (\"beam_search\", \"Beam Search\"),\n",
    "    (\"stochastic_beam_search\", \"Stochastic Beam Search\"),\n",
    "    (\"div_beam_search\", \"Diverse Beam Search\"),\n",
    "    (\"cg-mcts_exp-0\", \"cg-MCTS (exp 0.5)\"),\n",
    "    (\"cg-mcts_exp-1\", \"cg-MCTS (exp 1.0)\"),\n",
    "    (\"cg-mcts_exp-2\", \"cg-MCTS (exp 2.0)\"),\n",
    "    (\"cg-mcts_exp-3\", \"cg-MCTS (exp 3.0)\"),\n",
    "    (\"rw-mcts_exp-0\", \"rw-MCTS (exp 0.5)\"),\n",
    "    (\"rw-mcts_exp-1\", \"rw-MCTS (exp 1.0)\"),\n",
    "    (\"rw-mcts_exp-2\", \"rw-MCTS (exp 2.0)\"),\n",
    "    (\"rw-mcts_exp-3\", \"rw-MCTS (exp 3.0)\"),\n",
    "]\n",
    "print(tgts_sim.keys())"
   ]
  },
  {
   "cell_type": "code",
   "execution_count": 9,
   "metadata": {},
   "outputs": [
    {
     "name": "stdout",
     "output_type": "stream",
     "text": [
      "0.46879846\n",
      "0.5178704\n",
      "0.4995841\n",
      "0.53460145\n",
      "0.4777711\n",
      "0.48035046\n",
      "0.4699841\n",
      "0.47216618\n",
      "0.4622659\n",
      "0.464217\n",
      "0.4711084\n",
      "0.46396273\n"
     ]
    }
   ],
   "source": [
    "# Plot each matrix\n",
    "for key, legend_name in model_order:\n",
    "    plt.figure(figsize=(7, 6))\n",
    "    choosed = np.random.choice(range(len(tgts_sim[key])), 256, False)\n",
    "    sim = tgts_sim[key][choosed][:, choosed]\n",
    "    print(np.min(sim))\n",
    "    sns.heatmap(\n",
    "        sim,\n",
    "        cmap=\"YlOrRd\",\n",
    "        vmin=0.4,\n",
    "        xticklabels=False,\n",
    "        yticklabels=False,\n",
    "    )\n",
    "    plt.title(legend_name)\n",
    "    plt.tight_layout()\n",
    "    plt.savefig(\n",
    "        f\"../../../output/tgts-sim-mat/img-sim_matrix_{key}_best.png\",\n",
    "        dpi=300,\n",
    "        bbox_inches=\"tight\",\n",
    "    )\n",
    "    plt.close()"
   ]
  }
 ],
 "metadata": {
  "kernelspec": {
   "display_name": "Python 3",
   "language": "python",
   "name": "python3"
  },
  "language_info": {
   "codemirror_mode": {
    "name": "ipython",
    "version": 3
   },
   "file_extension": ".py",
   "mimetype": "text/x-python",
   "name": "python",
   "nbconvert_exporter": "python",
   "pygments_lexer": "ipython3",
   "version": "3.11.10"
  }
 },
 "nbformat": 4,
 "nbformat_minor": 2
}
