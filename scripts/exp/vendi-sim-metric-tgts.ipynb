{
 "cells": [
  {
   "cell_type": "code",
   "execution_count": 1,
   "metadata": {},
   "outputs": [],
   "source": [
    "import pandas as pd\n",
    "import matplotlib.pyplot as plt\n",
    "import numpy as np\n",
    "import seaborn as sns"
   ]
  },
  {
   "cell_type": "code",
   "execution_count": 2,
   "metadata": {},
   "outputs": [
    {
     "name": "stdout",
     "output_type": "stream",
     "text": [
      "dict_keys(['beam_search.txt', 'cg-mcts_exp-0.5.txt', 'cg-mcts_exp-1.0.txt', 'cg-mcts_exp-1.4.txt', 'cg-mcts_exp-3.0.txt', 'conventional.txt', 'reference.txt', 'rw-mcts_exp-0.5.txt', 'rw-mcts_exp-1.0.txt', 'rw-mcts_exp-2.0.txt', 'rw-mcts_exp-3.0.txt', 'stochastic_beam_search.txt'])\n"
     ]
    }
   ],
   "source": [
    "tgts_sim = np.load(\"../../output/tgts-sim.npy\", allow_pickle=True).tolist()\n",
    "model_order = [\n",
    "    (\"reference.txt\", \"Conventional\"),\n",
    "    (\"beam_search.txt\", \"Beam Search\"),\n",
    "    (\"stochastic_beam_search.txt\", \"Stochastic Beam Search\"),\n",
    "    (\"cg-mcts_exp-0.5.txt\", \"cg-MCTS (exp 0.5)\"),\n",
    "    (\"cg-mcts_exp-1.0.txt\", \"cg-MCTS (exp 1.0)\"),\n",
    "    (\"cg-mcts_exp-1.4.txt\", \"cg-MCTS (exp 1.4)\"),\n",
    "    (\"cg-mcts_exp-3.0.txt\", \"cg-MCTS (exp 3.0)\"),\n",
    "    (\"rw-mcts_exp-0.5.txt\", \"rw-MCTS (exp 0.5)\"),\n",
    "    (\"rw-mcts_exp-1.0.txt\", \"rw-MCTS (exp 1.0)\"),\n",
    "    (\"rw-mcts_exp-2.0.txt\", \"rw-MCTS (exp 2.0)\"),\n",
    "    (\"rw-mcts_exp-3.0.txt\", \"rw-MCTS (exp 3.0)\"),\n",
    "]\n",
    "print(tgts_sim.keys())"
   ]
  },
  {
   "cell_type": "code",
   "execution_count": 3,
   "metadata": {},
   "outputs": [],
   "source": [
    "# Plot each matrix\n",
    "for key, legend_name in model_order:\n",
    "    plt.figure(figsize=(7, 6))\n",
    "    choosed = np.random.choice(range(1024), 128, False)\n",
    "    sns.heatmap(\n",
    "        tgts_sim[key][choosed][:, choosed],\n",
    "        cmap=\"YlOrRd\",\n",
    "        vmin=0.6,\n",
    "        xticklabels=False,\n",
    "        yticklabels=False,\n",
    "    )\n",
    "    plt.title(legend_name)\n",
    "    plt.tight_layout()\n",
    "    plt.savefig(\n",
    "        f\"../../output/tgts-sim-mat/sim_matrix_{key}_best.png\",\n",
    "        dpi=300,\n",
    "        bbox_inches=\"tight\",\n",
    "    )\n",
    "    plt.close()"
   ]
  }
 ],
 "metadata": {
  "kernelspec": {
   "display_name": "Python 3",
   "language": "python",
   "name": "python3"
  },
  "language_info": {
   "codemirror_mode": {
    "name": "ipython",
    "version": 3
   },
   "file_extension": ".py",
   "mimetype": "text/x-python",
   "name": "python",
   "nbconvert_exporter": "python",
   "pygments_lexer": "ipython3",
   "version": "3.11.7"
  }
 },
 "nbformat": 4,
 "nbformat_minor": 2
}
