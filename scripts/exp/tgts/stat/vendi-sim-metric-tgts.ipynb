{
 "cells": [
  {
   "cell_type": "code",
   "execution_count": 1,
   "metadata": {},
   "outputs": [],
   "source": [
    "import pandas as pd\n",
    "import matplotlib.pyplot as plt\n",
    "import numpy as np\n",
    "import seaborn as sns"
   ]
  },
  {
   "cell_type": "code",
   "execution_count": 2,
   "metadata": {},
   "outputs": [
    {
     "name": "stdout",
     "output_type": "stream",
     "text": [
      "dict_keys(['beam_search.txt', 'cg-mcts_exp-0.5.txt', 'cg-mcts_exp-1.0.txt', 'cg-mcts_exp-2.0.txt', 'cg-mcts_exp-3.0.txt', 'conventional.txt', 'div_beam_search.txt', 'reference.txt', 'rw-mcts_exp-0.5.txt', 'rw-mcts_exp-1.0.txt', 'rw-mcts_exp-2.0.txt', 'rw-mcts_exp-3.0.txt', 'stochastic_beam_search.txt'])\n"
     ]
    }
   ],
   "source": [
    "tgts_sim = np.load(\"../../../output/tgts-sim.npy\", allow_pickle=True).tolist()\n",
    "model_order = [\n",
    "    (\"conventional.txt\", \"Nucleus Sampling (Temp 1.0, min-P 0.1)\"),\n",
    "    (\"beam_search.txt\", \"Beam Search\"),\n",
    "    (\"stochastic_beam_search.txt\", \"Stochastic Beam Search\"),\n",
    "    (\"div_beam_search.txt\", \"Diverse Beam Search\"),\n",
    "    (\"cg-mcts_exp-0.5.txt\", \"cg-MCTS (exp 0.5)\"),\n",
    "    (\"cg-mcts_exp-1.0.txt\", \"cg-MCTS (exp 1.0)\"),\n",
    "    (\"cg-mcts_exp-2.0.txt\", \"cg-MCTS (exp 2.0)\"),\n",
    "    (\"cg-mcts_exp-3.0.txt\", \"cg-MCTS (exp 3.0)\"),\n",
    "    (\"rw-mcts_exp-0.5.txt\", \"rw-MCTS (exp 0.5)\"),\n",
    "    (\"rw-mcts_exp-1.0.txt\", \"rw-MCTS (exp 1.0)\"),\n",
    "    (\"rw-mcts_exp-2.0.txt\", \"rw-MCTS (exp 2.0)\"),\n",
    "    (\"rw-mcts_exp-3.0.txt\", \"rw-MCTS (exp 3.0)\"),\n",
    "]\n",
    "print(tgts_sim.keys())"
   ]
  },
  {
   "cell_type": "code",
   "execution_count": null,
   "metadata": {},
   "outputs": [
    {
     "name": "stdout",
     "output_type": "stream",
     "text": [
      "0.50752735\n",
      "0.8310846\n",
      "0.57433116\n",
      "0.76644164\n",
      "0.59169465\n",
      "0.609041\n",
      "0.58175683\n",
      "0.5386318\n",
      "0.5659598\n",
      "0.5754525\n",
      "0.6380727\n",
      "0.45526806\n"
     ]
    }
   ],
   "source": [
    "# Plot each matrix\n",
    "for key, legend_name in model_order:\n",
    "    plt.figure(figsize=(7, 6))\n",
    "    choosed = np.random.choice(range(len(tgts_sim[key])), 256, False)\n",
    "    sim = tgts_sim[key][choosed][:, choosed]\n",
    "    print(np.min(sim))\n",
    "    sns.heatmap(\n",
    "        sim,\n",
    "        cmap=\"YlOrRd\",\n",
    "        vmin=0.5,\n",
    "        xticklabels=False,\n",
    "        yticklabels=False,\n",
    "    )\n",
    "    plt.title(legend_name)\n",
    "    plt.tight_layout()\n",
    "    plt.savefig(\n",
    "        f\"../../../output/tgts-sim-mat/sim_matrix_{key}_best.png\",\n",
    "        dpi=300,\n",
    "        bbox_inches=\"tight\",\n",
    "    )\n",
    "    plt.close()"
   ]
  }
 ],
 "metadata": {
  "kernelspec": {
   "display_name": "Python 3",
   "language": "python",
   "name": "python3"
  },
  "language_info": {
   "codemirror_mode": {
    "name": "ipython",
    "version": 3
   },
   "file_extension": ".py",
   "mimetype": "text/x-python",
   "name": "python",
   "nbconvert_exporter": "python",
   "pygments_lexer": "ipython3",
   "version": "3.11.10"
  }
 },
 "nbformat": 4,
 "nbformat_minor": 2
}
